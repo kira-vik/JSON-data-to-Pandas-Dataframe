{
 "cells": [
  {
   "cell_type": "markdown",
   "metadata": {},
   "source": [
    "# Creating a Pandas Dataframe from an API Endpoint in Jupyter Notebooks"
   ]
  },
  {
   "cell_type": "markdown",
   "metadata": {},
   "source": [
    "### Import Dependencies"
   ]
  },
  {
   "cell_type": "code",
   "execution_count": 6,
   "metadata": {},
   "outputs": [],
   "source": [
    "import requests # sending of HTTP requests\n",
    "import pandas as pd\n",
    "import time\n"
   ]
  },
  {
   "cell_type": "markdown",
   "metadata": {},
   "source": [
    "### Make GET request from an API Endpoint"
   ]
  },
  {
   "cell_type": "code",
   "execution_count": 7,
   "metadata": {},
   "outputs": [],
   "source": [
    "# function to fetch API data\n",
    "def get_api_data():\n",
    "     API_URL = 'https://fakestoreapi.com/products' # target endpoint\n",
    "\n",
    "     try:\n",
    "          response = requests.get(API_URL)\n",
    "          store_data = response.json() # extract json-structured data from request\n",
    "\n",
    "          if response.status_code == 200: # successful request\n",
    "               return store_data\n",
    "          else:\n",
    "               print(\"Error fetching API data\") # failed request\n",
    "               return None\n",
    "          \n",
    "     except Exception as e:\n",
    "          print(f'Error: {e}')\n",
    "          return None\n",
    "     "
   ]
  },
  {
   "cell_type": "markdown",
   "metadata": {},
   "source": [
    "### Explore fetched JSON-structured data"
   ]
  },
  {
   "cell_type": "code",
   "execution_count": 8,
   "metadata": {},
   "outputs": [
    {
     "data": {
      "text/plain": [
       "list"
      ]
     },
     "execution_count": 8,
     "metadata": {},
     "output_type": "execute_result"
    }
   ],
   "source": [
    "type(get_api_data())"
   ]
  },
  {
   "cell_type": "code",
   "execution_count": 9,
   "metadata": {},
   "outputs": [
    {
     "name": "stdout",
     "output_type": "stream",
     "text": [
      "[{'id': 1, 'title': 'Fjallraven - Foldsack No. 1 Backpack, Fits 15 Laptops', 'price': 109.95, 'description': 'Your perfect pack for everyday use and walks in the forest. Stash your laptop (up to 15 inches) in the padded sleeve, your everyday', 'category': \"men's clothing\", 'image': 'https://fakestoreapi.com/img/81fPKd-2AYL._AC_SL1500_.jpg', 'rating': {'rate': 3.9, 'count': 120}}, {'id': 2, 'title': 'Mens Casual Premium Slim Fit T-Shirts ', 'price': 22.3, 'description': 'Slim-fitting style, contrast raglan long sleeve, three-button henley placket, light weight & soft fabric for breathable and comfortable wearing. And Solid stitched shirts with round neck made for durability and a great fit for casual fashion wear and diehard baseball fans. The Henley style round neckline includes a three-button placket.', 'category': \"men's clothing\", 'image': 'https://fakestoreapi.com/img/71-3HjGNDUL._AC_SY879._SX._UX._SY._UY_.jpg', 'rating': {'rate': 4.1, 'count': 259}}, {'id': 3, 'title': 'Mens Cotton Jacket', 'price': 55.99, 'description': 'great outerwear jackets for Spring/Autumn/Winter, suitable for many occasions, such as working, hiking, camping, mountain/rock climbing, cycling, traveling or other outdoors. Good gift choice for you or your family member. A warm hearted love to Father, husband or son in this thanksgiving or Christmas Day.', 'category': \"men's clothing\", 'image': 'https://fakestoreapi.com/img/71li-ujtlUL._AC_UX679_.jpg', 'rating': {'rate': 4.7, 'count': 500}}, {'id': 4, 'title': 'Mens Casual Slim Fit', 'price': 15.99, 'description': 'The color could be slightly different between on the screen and in practice. / Please note that body builds vary by person, therefore, detailed size information should be reviewed below on the product description.', 'category': \"men's clothing\", 'image': 'https://fakestoreapi.com/img/71YXzeOuslL._AC_UY879_.jpg', 'rating': {'rate': 2.1, 'count': 430}}, {'id': 5, 'title': \"John Hardy Women's Legends Naga Gold & Silver Dragon Station Chain Bracelet\", 'price': 695, 'description': \"From our Legends Collection, the Naga was inspired by the mythical water dragon that protects the ocean's pearl. Wear facing inward to be bestowed with love and abundance, or outward for protection.\", 'category': 'jewelery', 'image': 'https://fakestoreapi.com/img/71pWzhdJNwL._AC_UL640_QL65_ML3_.jpg', 'rating': {'rate': 4.6, 'count': 400}}, {'id': 6, 'title': 'Solid Gold Petite Micropave ', 'price': 168, 'description': 'Satisfaction Guaranteed. Return or exchange any order within 30 days.Designed and sold by Hafeez Center in the United States. Satisfaction Guaranteed. Return or exchange any order within 30 days.', 'category': 'jewelery', 'image': 'https://fakestoreapi.com/img/61sbMiUnoGL._AC_UL640_QL65_ML3_.jpg', 'rating': {'rate': 3.9, 'count': 70}}, {'id': 7, 'title': 'White Gold Plated Princess', 'price': 9.99, 'description': \"Classic Created Wedding Engagement Solitaire Diamond Promise Ring for Her. Gifts to spoil your love more for Engagement, Wedding, Anniversary, Valentine's Day...\", 'category': 'jewelery', 'image': 'https://fakestoreapi.com/img/71YAIFU48IL._AC_UL640_QL65_ML3_.jpg', 'rating': {'rate': 3, 'count': 400}}, {'id': 8, 'title': 'Pierced Owl Rose Gold Plated Stainless Steel Double', 'price': 10.99, 'description': 'Rose Gold Plated Double Flared Tunnel Plug Earrings. Made of 316L Stainless Steel', 'category': 'jewelery', 'image': 'https://fakestoreapi.com/img/51UDEzMJVpL._AC_UL640_QL65_ML3_.jpg', 'rating': {'rate': 1.9, 'count': 100}}, {'id': 9, 'title': 'WD 2TB Elements Portable External Hard Drive - USB 3.0 ', 'price': 64, 'description': 'USB 3.0 and USB 2.0 Compatibility Fast data transfers Improve PC Performance High Capacity; Compatibility Formatted NTFS for Windows 10, Windows 8.1, Windows 7; Reformatting may be required for other operating systems; Compatibility may vary depending on user’s hardware configuration and operating system', 'category': 'electronics', 'image': 'https://fakestoreapi.com/img/61IBBVJvSDL._AC_SY879_.jpg', 'rating': {'rate': 3.3, 'count': 203}}, {'id': 10, 'title': 'SanDisk SSD PLUS 1TB Internal SSD - SATA III 6 Gb/s', 'price': 109, 'description': 'Easy upgrade for faster boot up, shutdown, application load and response (As compared to 5400 RPM SATA 2.5” hard drive; Based on published specifications and internal benchmarking tests using PCMark vantage scores) Boosts burst write performance, making it ideal for typical PC workloads The perfect balance of performance and reliability Read/write speeds of up to 535MB/s/450MB/s (Based on internal testing; Performance may vary depending upon drive capacity, host device, OS and application.)', 'category': 'electronics', 'image': 'https://fakestoreapi.com/img/61U7T1koQqL._AC_SX679_.jpg', 'rating': {'rate': 2.9, 'count': 470}}, {'id': 11, 'title': 'Silicon Power 256GB SSD 3D NAND A55 SLC Cache Performance Boost SATA III 2.5', 'price': 109, 'description': '3D NAND flash are applied to deliver high transfer speeds Remarkable transfer speeds that enable faster bootup and improved overall system performance. The advanced SLC Cache Technology allows performance boost and longer lifespan 7mm slim design suitable for Ultrabooks and Ultra-slim notebooks. Supports TRIM command, Garbage Collection technology, RAID, and ECC (Error Checking & Correction) to provide the optimized performance and enhanced reliability.', 'category': 'electronics', 'image': 'https://fakestoreapi.com/img/71kWymZ+c+L._AC_SX679_.jpg', 'rating': {'rate': 4.8, 'count': 319}}, {'id': 12, 'title': 'WD 4TB Gaming Drive Works with Playstation 4 Portable External Hard Drive', 'price': 114, 'description': \"Expand your PS4 gaming experience, Play anywhere Fast and easy, setup Sleek design with high capacity, 3-year manufacturer's limited warranty\", 'category': 'electronics', 'image': 'https://fakestoreapi.com/img/61mtL65D4cL._AC_SX679_.jpg', 'rating': {'rate': 4.8, 'count': 400}}, {'id': 13, 'title': 'Acer SB220Q bi 21.5 inches Full HD (1920 x 1080) IPS Ultra-Thin', 'price': 599, 'description': '21. 5 inches Full HD (1920 x 1080) widescreen IPS display And Radeon free Sync technology. No compatibility for VESA Mount Refresh Rate: 75Hz - Using HDMI port Zero-frame design | ultra-thin | 4ms response time | IPS panel Aspect ratio - 16: 9. Color Supported - 16. 7 million colors. Brightness - 250 nit Tilt angle -5 degree to 15 degree. Horizontal viewing angle-178 degree. Vertical viewing angle-178 degree 75 hertz', 'category': 'electronics', 'image': 'https://fakestoreapi.com/img/81QpkIctqPL._AC_SX679_.jpg', 'rating': {'rate': 2.9, 'count': 250}}, {'id': 14, 'title': 'Samsung 49-Inch CHG90 144Hz Curved Gaming Monitor (LC49HG90DMNXZA) – Super Ultrawide Screen QLED ', 'price': 999.99, 'description': '49 INCH SUPER ULTRAWIDE 32:9 CURVED GAMING MONITOR with dual 27 inch screen side by side QUANTUM DOT (QLED) TECHNOLOGY, HDR support and factory calibration provides stunningly realistic and accurate color and contrast 144HZ HIGH REFRESH RATE and 1ms ultra fast response time work to eliminate motion blur, ghosting, and reduce input lag', 'category': 'electronics', 'image': 'https://fakestoreapi.com/img/81Zt42ioCgL._AC_SX679_.jpg', 'rating': {'rate': 2.2, 'count': 140}}, {'id': 15, 'title': \"BIYLACLESEN Women's 3-in-1 Snowboard Jacket Winter Coats\", 'price': 56.99, 'description': 'Note:The Jackets is US standard size, Please choose size as your usual wear Material: 100% Polyester; Detachable Liner Fabric: Warm Fleece. Detachable Functional Liner: Skin Friendly, Lightweigt and Warm.Stand Collar Liner jacket, keep you warm in cold weather. Zippered Pockets: 2 Zippered Hand Pockets, 2 Zippered Pockets on Chest (enough to keep cards or keys)and 1 Hidden Pocket Inside.Zippered Hand Pockets and Hidden Pocket keep your things secure. Humanized Design: Adjustable and Detachable Hood and Adjustable cuff to prevent the wind and water,for a comfortable fit. 3 in 1 Detachable Design provide more convenience, you can separate the coat and inner as needed, or wear it together. It is suitable for different season and help you adapt to different climates', 'category': \"women's clothing\", 'image': 'https://fakestoreapi.com/img/51Y5NI-I5jL._AC_UX679_.jpg', 'rating': {'rate': 2.6, 'count': 235}}, {'id': 16, 'title': \"Lock and Love Women's Removable Hooded Faux Leather Moto Biker Jacket\", 'price': 29.95, 'description': '100% POLYURETHANE(shell) 100% POLYESTER(lining) 75% POLYESTER 25% COTTON (SWEATER), Faux leather material for style and comfort / 2 pockets of front, 2-For-One Hooded denim style faux leather jacket, Button detail on waist / Detail stitching at sides, HAND WASH ONLY / DO NOT BLEACH / LINE DRY / DO NOT IRON', 'category': \"women's clothing\", 'image': 'https://fakestoreapi.com/img/81XH0e8fefL._AC_UY879_.jpg', 'rating': {'rate': 2.9, 'count': 340}}, {'id': 17, 'title': 'Rain Jacket Women Windbreaker Striped Climbing Raincoats', 'price': 39.99, 'description': \"Lightweight perfet for trip or casual wear---Long sleeve with hooded, adjustable drawstring waist design. Button and zipper front closure raincoat, fully stripes Lined and The Raincoat has 2 side pockets are a good size to hold all kinds of things, it covers the hips, and the hood is generous but doesn't overdo it.Attached Cotton Lined Hood with Adjustable Drawstrings give it a real styled look.\", 'category': \"women's clothing\", 'image': 'https://fakestoreapi.com/img/71HblAHs5xL._AC_UY879_-2.jpg', 'rating': {'rate': 3.8, 'count': 679}}, {'id': 18, 'title': \"MBJ Women's Solid Short Sleeve Boat Neck V \", 'price': 9.85, 'description': '95% RAYON 5% SPANDEX, Made in USA or Imported, Do Not Bleach, Lightweight fabric with great stretch for comfort, Ribbed on sleeves and neckline / Double stitching on bottom hem', 'category': \"women's clothing\", 'image': 'https://fakestoreapi.com/img/71z3kpMAYsL._AC_UY879_.jpg', 'rating': {'rate': 4.7, 'count': 130}}, {'id': 19, 'title': \"Opna Women's Short Sleeve Moisture\", 'price': 7.95, 'description': '100% Polyester, Machine wash, 100% cationic polyester interlock, Machine Wash & Pre Shrunk for a Great Fit, Lightweight, roomy and highly breathable with moisture wicking fabric which helps to keep moisture away, Soft Lightweight Fabric with comfortable V-neck collar and a slimmer fit, delivers a sleek, more feminine silhouette and Added Comfort', 'category': \"women's clothing\", 'image': 'https://fakestoreapi.com/img/51eg55uWmdL._AC_UX679_.jpg', 'rating': {'rate': 4.5, 'count': 146}}, {'id': 20, 'title': 'DANVOUY Womens T Shirt Casual Cotton Short', 'price': 12.99, 'description': '95%Cotton,5%Spandex, Features: Casual, Short Sleeve, Letter Print,V-Neck,Fashion Tees, The fabric is soft and has some stretch., Occasion: Casual/Office/Beach/School/Home/Street. Season: Spring,Summer,Autumn,Winter.', 'category': \"women's clothing\", 'image': 'https://fakestoreapi.com/img/61pHAEJ4NML._AC_UX679_.jpg', 'rating': {'rate': 3.6, 'count': 145}}]\n"
     ]
    }
   ],
   "source": [
    "store_data = get_api_data()\n",
    "print(store_data)"
   ]
  },
  {
   "cell_type": "code",
   "execution_count": 10,
   "metadata": {},
   "outputs": [
    {
     "name": "stdout",
     "output_type": "stream",
     "text": [
      "{'id': 1, 'title': 'Fjallraven - Foldsack No. 1 Backpack, Fits 15 Laptops', 'price': 109.95, 'description': 'Your perfect pack for everyday use and walks in the forest. Stash your laptop (up to 15 inches) in the padded sleeve, your everyday', 'category': \"men's clothing\", 'image': 'https://fakestoreapi.com/img/81fPKd-2AYL._AC_SL1500_.jpg', 'rating': {'rate': 3.9, 'count': 120}}\n",
      "{'id': 2, 'title': 'Mens Casual Premium Slim Fit T-Shirts ', 'price': 22.3, 'description': 'Slim-fitting style, contrast raglan long sleeve, three-button henley placket, light weight & soft fabric for breathable and comfortable wearing. And Solid stitched shirts with round neck made for durability and a great fit for casual fashion wear and diehard baseball fans. The Henley style round neckline includes a three-button placket.', 'category': \"men's clothing\", 'image': 'https://fakestoreapi.com/img/71-3HjGNDUL._AC_SY879._SX._UX._SY._UY_.jpg', 'rating': {'rate': 4.1, 'count': 259}}\n",
      "{'id': 3, 'title': 'Mens Cotton Jacket', 'price': 55.99, 'description': 'great outerwear jackets for Spring/Autumn/Winter, suitable for many occasions, such as working, hiking, camping, mountain/rock climbing, cycling, traveling or other outdoors. Good gift choice for you or your family member. A warm hearted love to Father, husband or son in this thanksgiving or Christmas Day.', 'category': \"men's clothing\", 'image': 'https://fakestoreapi.com/img/71li-ujtlUL._AC_UX679_.jpg', 'rating': {'rate': 4.7, 'count': 500}}\n",
      "{'id': 4, 'title': 'Mens Casual Slim Fit', 'price': 15.99, 'description': 'The color could be slightly different between on the screen and in practice. / Please note that body builds vary by person, therefore, detailed size information should be reviewed below on the product description.', 'category': \"men's clothing\", 'image': 'https://fakestoreapi.com/img/71YXzeOuslL._AC_UY879_.jpg', 'rating': {'rate': 2.1, 'count': 430}}\n",
      "{'id': 5, 'title': \"John Hardy Women's Legends Naga Gold & Silver Dragon Station Chain Bracelet\", 'price': 695, 'description': \"From our Legends Collection, the Naga was inspired by the mythical water dragon that protects the ocean's pearl. Wear facing inward to be bestowed with love and abundance, or outward for protection.\", 'category': 'jewelery', 'image': 'https://fakestoreapi.com/img/71pWzhdJNwL._AC_UL640_QL65_ML3_.jpg', 'rating': {'rate': 4.6, 'count': 400}}\n",
      "{'id': 6, 'title': 'Solid Gold Petite Micropave ', 'price': 168, 'description': 'Satisfaction Guaranteed. Return or exchange any order within 30 days.Designed and sold by Hafeez Center in the United States. Satisfaction Guaranteed. Return or exchange any order within 30 days.', 'category': 'jewelery', 'image': 'https://fakestoreapi.com/img/61sbMiUnoGL._AC_UL640_QL65_ML3_.jpg', 'rating': {'rate': 3.9, 'count': 70}}\n",
      "{'id': 7, 'title': 'White Gold Plated Princess', 'price': 9.99, 'description': \"Classic Created Wedding Engagement Solitaire Diamond Promise Ring for Her. Gifts to spoil your love more for Engagement, Wedding, Anniversary, Valentine's Day...\", 'category': 'jewelery', 'image': 'https://fakestoreapi.com/img/71YAIFU48IL._AC_UL640_QL65_ML3_.jpg', 'rating': {'rate': 3, 'count': 400}}\n",
      "{'id': 8, 'title': 'Pierced Owl Rose Gold Plated Stainless Steel Double', 'price': 10.99, 'description': 'Rose Gold Plated Double Flared Tunnel Plug Earrings. Made of 316L Stainless Steel', 'category': 'jewelery', 'image': 'https://fakestoreapi.com/img/51UDEzMJVpL._AC_UL640_QL65_ML3_.jpg', 'rating': {'rate': 1.9, 'count': 100}}\n",
      "{'id': 9, 'title': 'WD 2TB Elements Portable External Hard Drive - USB 3.0 ', 'price': 64, 'description': 'USB 3.0 and USB 2.0 Compatibility Fast data transfers Improve PC Performance High Capacity; Compatibility Formatted NTFS for Windows 10, Windows 8.1, Windows 7; Reformatting may be required for other operating systems; Compatibility may vary depending on user’s hardware configuration and operating system', 'category': 'electronics', 'image': 'https://fakestoreapi.com/img/61IBBVJvSDL._AC_SY879_.jpg', 'rating': {'rate': 3.3, 'count': 203}}\n",
      "{'id': 10, 'title': 'SanDisk SSD PLUS 1TB Internal SSD - SATA III 6 Gb/s', 'price': 109, 'description': 'Easy upgrade for faster boot up, shutdown, application load and response (As compared to 5400 RPM SATA 2.5” hard drive; Based on published specifications and internal benchmarking tests using PCMark vantage scores) Boosts burst write performance, making it ideal for typical PC workloads The perfect balance of performance and reliability Read/write speeds of up to 535MB/s/450MB/s (Based on internal testing; Performance may vary depending upon drive capacity, host device, OS and application.)', 'category': 'electronics', 'image': 'https://fakestoreapi.com/img/61U7T1koQqL._AC_SX679_.jpg', 'rating': {'rate': 2.9, 'count': 470}}\n",
      "{'id': 11, 'title': 'Silicon Power 256GB SSD 3D NAND A55 SLC Cache Performance Boost SATA III 2.5', 'price': 109, 'description': '3D NAND flash are applied to deliver high transfer speeds Remarkable transfer speeds that enable faster bootup and improved overall system performance. The advanced SLC Cache Technology allows performance boost and longer lifespan 7mm slim design suitable for Ultrabooks and Ultra-slim notebooks. Supports TRIM command, Garbage Collection technology, RAID, and ECC (Error Checking & Correction) to provide the optimized performance and enhanced reliability.', 'category': 'electronics', 'image': 'https://fakestoreapi.com/img/71kWymZ+c+L._AC_SX679_.jpg', 'rating': {'rate': 4.8, 'count': 319}}\n",
      "{'id': 12, 'title': 'WD 4TB Gaming Drive Works with Playstation 4 Portable External Hard Drive', 'price': 114, 'description': \"Expand your PS4 gaming experience, Play anywhere Fast and easy, setup Sleek design with high capacity, 3-year manufacturer's limited warranty\", 'category': 'electronics', 'image': 'https://fakestoreapi.com/img/61mtL65D4cL._AC_SX679_.jpg', 'rating': {'rate': 4.8, 'count': 400}}\n",
      "{'id': 13, 'title': 'Acer SB220Q bi 21.5 inches Full HD (1920 x 1080) IPS Ultra-Thin', 'price': 599, 'description': '21. 5 inches Full HD (1920 x 1080) widescreen IPS display And Radeon free Sync technology. No compatibility for VESA Mount Refresh Rate: 75Hz - Using HDMI port Zero-frame design | ultra-thin | 4ms response time | IPS panel Aspect ratio - 16: 9. Color Supported - 16. 7 million colors. Brightness - 250 nit Tilt angle -5 degree to 15 degree. Horizontal viewing angle-178 degree. Vertical viewing angle-178 degree 75 hertz', 'category': 'electronics', 'image': 'https://fakestoreapi.com/img/81QpkIctqPL._AC_SX679_.jpg', 'rating': {'rate': 2.9, 'count': 250}}\n",
      "{'id': 14, 'title': 'Samsung 49-Inch CHG90 144Hz Curved Gaming Monitor (LC49HG90DMNXZA) – Super Ultrawide Screen QLED ', 'price': 999.99, 'description': '49 INCH SUPER ULTRAWIDE 32:9 CURVED GAMING MONITOR with dual 27 inch screen side by side QUANTUM DOT (QLED) TECHNOLOGY, HDR support and factory calibration provides stunningly realistic and accurate color and contrast 144HZ HIGH REFRESH RATE and 1ms ultra fast response time work to eliminate motion blur, ghosting, and reduce input lag', 'category': 'electronics', 'image': 'https://fakestoreapi.com/img/81Zt42ioCgL._AC_SX679_.jpg', 'rating': {'rate': 2.2, 'count': 140}}\n",
      "{'id': 15, 'title': \"BIYLACLESEN Women's 3-in-1 Snowboard Jacket Winter Coats\", 'price': 56.99, 'description': 'Note:The Jackets is US standard size, Please choose size as your usual wear Material: 100% Polyester; Detachable Liner Fabric: Warm Fleece. Detachable Functional Liner: Skin Friendly, Lightweigt and Warm.Stand Collar Liner jacket, keep you warm in cold weather. Zippered Pockets: 2 Zippered Hand Pockets, 2 Zippered Pockets on Chest (enough to keep cards or keys)and 1 Hidden Pocket Inside.Zippered Hand Pockets and Hidden Pocket keep your things secure. Humanized Design: Adjustable and Detachable Hood and Adjustable cuff to prevent the wind and water,for a comfortable fit. 3 in 1 Detachable Design provide more convenience, you can separate the coat and inner as needed, or wear it together. It is suitable for different season and help you adapt to different climates', 'category': \"women's clothing\", 'image': 'https://fakestoreapi.com/img/51Y5NI-I5jL._AC_UX679_.jpg', 'rating': {'rate': 2.6, 'count': 235}}\n",
      "{'id': 16, 'title': \"Lock and Love Women's Removable Hooded Faux Leather Moto Biker Jacket\", 'price': 29.95, 'description': '100% POLYURETHANE(shell) 100% POLYESTER(lining) 75% POLYESTER 25% COTTON (SWEATER), Faux leather material for style and comfort / 2 pockets of front, 2-For-One Hooded denim style faux leather jacket, Button detail on waist / Detail stitching at sides, HAND WASH ONLY / DO NOT BLEACH / LINE DRY / DO NOT IRON', 'category': \"women's clothing\", 'image': 'https://fakestoreapi.com/img/81XH0e8fefL._AC_UY879_.jpg', 'rating': {'rate': 2.9, 'count': 340}}\n",
      "{'id': 17, 'title': 'Rain Jacket Women Windbreaker Striped Climbing Raincoats', 'price': 39.99, 'description': \"Lightweight perfet for trip or casual wear---Long sleeve with hooded, adjustable drawstring waist design. Button and zipper front closure raincoat, fully stripes Lined and The Raincoat has 2 side pockets are a good size to hold all kinds of things, it covers the hips, and the hood is generous but doesn't overdo it.Attached Cotton Lined Hood with Adjustable Drawstrings give it a real styled look.\", 'category': \"women's clothing\", 'image': 'https://fakestoreapi.com/img/71HblAHs5xL._AC_UY879_-2.jpg', 'rating': {'rate': 3.8, 'count': 679}}\n",
      "{'id': 18, 'title': \"MBJ Women's Solid Short Sleeve Boat Neck V \", 'price': 9.85, 'description': '95% RAYON 5% SPANDEX, Made in USA or Imported, Do Not Bleach, Lightweight fabric with great stretch for comfort, Ribbed on sleeves and neckline / Double stitching on bottom hem', 'category': \"women's clothing\", 'image': 'https://fakestoreapi.com/img/71z3kpMAYsL._AC_UY879_.jpg', 'rating': {'rate': 4.7, 'count': 130}}\n",
      "{'id': 19, 'title': \"Opna Women's Short Sleeve Moisture\", 'price': 7.95, 'description': '100% Polyester, Machine wash, 100% cationic polyester interlock, Machine Wash & Pre Shrunk for a Great Fit, Lightweight, roomy and highly breathable with moisture wicking fabric which helps to keep moisture away, Soft Lightweight Fabric with comfortable V-neck collar and a slimmer fit, delivers a sleek, more feminine silhouette and Added Comfort', 'category': \"women's clothing\", 'image': 'https://fakestoreapi.com/img/51eg55uWmdL._AC_UX679_.jpg', 'rating': {'rate': 4.5, 'count': 146}}\n",
      "{'id': 20, 'title': 'DANVOUY Womens T Shirt Casual Cotton Short', 'price': 12.99, 'description': '95%Cotton,5%Spandex, Features: Casual, Short Sleeve, Letter Print,V-Neck,Fashion Tees, The fabric is soft and has some stretch., Occasion: Casual/Office/Beach/School/Home/Street. Season: Spring,Summer,Autumn,Winter.', 'category': \"women's clothing\", 'image': 'https://fakestoreapi.com/img/61pHAEJ4NML._AC_UX679_.jpg', 'rating': {'rate': 3.6, 'count': 145}}\n"
     ]
    }
   ],
   "source": [
    "for item in store_data:\n",
    "     print(item)"
   ]
  },
  {
   "cell_type": "code",
   "execution_count": 11,
   "metadata": {},
   "outputs": [
    {
     "name": "stdout",
     "output_type": "stream",
     "text": [
      "{'id': 1, 'title': 'Fjallraven - Foldsack No. 1 Backpack, Fits 15 Laptops', 'price': 109.95, 'description': 'Your perfect pack for everyday use and walks in the forest. Stash your laptop (up to 15 inches) in the padded sleeve, your everyday', 'category': \"men's clothing\", 'image': 'https://fakestoreapi.com/img/81fPKd-2AYL._AC_SL1500_.jpg', 'rating': {'rate': 3.9, 'count': 120}}\n"
     ]
    }
   ],
   "source": [
    "print(store_data[0])"
   ]
  },
  {
   "cell_type": "markdown",
   "metadata": {},
   "source": [
    "### JSON to Dataframe"
   ]
  },
  {
   "cell_type": "code",
   "execution_count": 12,
   "metadata": {},
   "outputs": [],
   "source": [
    "# function to create and feed data into dataframe \n",
    "def create_df(store_data):\n",
    "     \n",
    "     # create empty data frame to hold data from API request\n",
    "     df = pd.DataFrame(columns=[\"product_id\", \"product_title\", \"price\", \"description\", \"category\", \"rate\", \"count\"])\n",
    "\n",
    "     time.sleep(1)\n",
    "\n",
    "     # feed data into empty dataframe created\n",
    "     for item in store_data:\n",
    "          product_id = item['id']\n",
    "          product_title = item['title']\n",
    "          price = item['price']\n",
    "          category = item['category']\n",
    "          description = item['description']\n",
    "          rate = item['rating']['rate']\n",
    "          count = item['rating']['count']\n",
    "\n",
    "          df.loc[len(df.index)] = [product_id, product_title, price, description, category, rate, count]\n",
    "     \n",
    "     return df"
   ]
  },
  {
   "cell_type": "code",
   "execution_count": 13,
   "metadata": {},
   "outputs": [
    {
     "data": {
      "text/html": [
       "<div>\n",
       "<style scoped>\n",
       "    .dataframe tbody tr th:only-of-type {\n",
       "        vertical-align: middle;\n",
       "    }\n",
       "\n",
       "    .dataframe tbody tr th {\n",
       "        vertical-align: top;\n",
       "    }\n",
       "\n",
       "    .dataframe thead th {\n",
       "        text-align: right;\n",
       "    }\n",
       "</style>\n",
       "<table border=\"1\" class=\"dataframe\">\n",
       "  <thead>\n",
       "    <tr style=\"text-align: right;\">\n",
       "      <th></th>\n",
       "      <th>product_id</th>\n",
       "      <th>product_title</th>\n",
       "      <th>price</th>\n",
       "      <th>description</th>\n",
       "      <th>category</th>\n",
       "      <th>rate</th>\n",
       "      <th>count</th>\n",
       "    </tr>\n",
       "  </thead>\n",
       "  <tbody>\n",
       "    <tr>\n",
       "      <th>0</th>\n",
       "      <td>1</td>\n",
       "      <td>Fjallraven - Foldsack No. 1 Backpack, Fits 15 ...</td>\n",
       "      <td>109.95</td>\n",
       "      <td>Your perfect pack for everyday use and walks i...</td>\n",
       "      <td>men's clothing</td>\n",
       "      <td>3.9</td>\n",
       "      <td>120</td>\n",
       "    </tr>\n",
       "    <tr>\n",
       "      <th>1</th>\n",
       "      <td>2</td>\n",
       "      <td>Mens Casual Premium Slim Fit T-Shirts</td>\n",
       "      <td>22.30</td>\n",
       "      <td>Slim-fitting style, contrast raglan long sleev...</td>\n",
       "      <td>men's clothing</td>\n",
       "      <td>4.1</td>\n",
       "      <td>259</td>\n",
       "    </tr>\n",
       "    <tr>\n",
       "      <th>2</th>\n",
       "      <td>3</td>\n",
       "      <td>Mens Cotton Jacket</td>\n",
       "      <td>55.99</td>\n",
       "      <td>great outerwear jackets for Spring/Autumn/Wint...</td>\n",
       "      <td>men's clothing</td>\n",
       "      <td>4.7</td>\n",
       "      <td>500</td>\n",
       "    </tr>\n",
       "    <tr>\n",
       "      <th>3</th>\n",
       "      <td>4</td>\n",
       "      <td>Mens Casual Slim Fit</td>\n",
       "      <td>15.99</td>\n",
       "      <td>The color could be slightly different between ...</td>\n",
       "      <td>men's clothing</td>\n",
       "      <td>2.1</td>\n",
       "      <td>430</td>\n",
       "    </tr>\n",
       "    <tr>\n",
       "      <th>4</th>\n",
       "      <td>5</td>\n",
       "      <td>John Hardy Women's Legends Naga Gold &amp; Silver ...</td>\n",
       "      <td>695.00</td>\n",
       "      <td>From our Legends Collection, the Naga was insp...</td>\n",
       "      <td>jewelery</td>\n",
       "      <td>4.6</td>\n",
       "      <td>400</td>\n",
       "    </tr>\n",
       "    <tr>\n",
       "      <th>5</th>\n",
       "      <td>6</td>\n",
       "      <td>Solid Gold Petite Micropave</td>\n",
       "      <td>168.00</td>\n",
       "      <td>Satisfaction Guaranteed. Return or exchange an...</td>\n",
       "      <td>jewelery</td>\n",
       "      <td>3.9</td>\n",
       "      <td>70</td>\n",
       "    </tr>\n",
       "    <tr>\n",
       "      <th>6</th>\n",
       "      <td>7</td>\n",
       "      <td>White Gold Plated Princess</td>\n",
       "      <td>9.99</td>\n",
       "      <td>Classic Created Wedding Engagement Solitaire D...</td>\n",
       "      <td>jewelery</td>\n",
       "      <td>3.0</td>\n",
       "      <td>400</td>\n",
       "    </tr>\n",
       "    <tr>\n",
       "      <th>7</th>\n",
       "      <td>8</td>\n",
       "      <td>Pierced Owl Rose Gold Plated Stainless Steel D...</td>\n",
       "      <td>10.99</td>\n",
       "      <td>Rose Gold Plated Double Flared Tunnel Plug Ear...</td>\n",
       "      <td>jewelery</td>\n",
       "      <td>1.9</td>\n",
       "      <td>100</td>\n",
       "    </tr>\n",
       "    <tr>\n",
       "      <th>8</th>\n",
       "      <td>9</td>\n",
       "      <td>WD 2TB Elements Portable External Hard Drive -...</td>\n",
       "      <td>64.00</td>\n",
       "      <td>USB 3.0 and USB 2.0 Compatibility Fast data tr...</td>\n",
       "      <td>electronics</td>\n",
       "      <td>3.3</td>\n",
       "      <td>203</td>\n",
       "    </tr>\n",
       "    <tr>\n",
       "      <th>9</th>\n",
       "      <td>10</td>\n",
       "      <td>SanDisk SSD PLUS 1TB Internal SSD - SATA III 6...</td>\n",
       "      <td>109.00</td>\n",
       "      <td>Easy upgrade for faster boot up, shutdown, app...</td>\n",
       "      <td>electronics</td>\n",
       "      <td>2.9</td>\n",
       "      <td>470</td>\n",
       "    </tr>\n",
       "  </tbody>\n",
       "</table>\n",
       "</div>"
      ],
      "text/plain": [
       "   product_id                                      product_title   price  \\\n",
       "0           1  Fjallraven - Foldsack No. 1 Backpack, Fits 15 ...  109.95   \n",
       "1           2             Mens Casual Premium Slim Fit T-Shirts    22.30   \n",
       "2           3                                 Mens Cotton Jacket   55.99   \n",
       "3           4                               Mens Casual Slim Fit   15.99   \n",
       "4           5  John Hardy Women's Legends Naga Gold & Silver ...  695.00   \n",
       "5           6                       Solid Gold Petite Micropave   168.00   \n",
       "6           7                         White Gold Plated Princess    9.99   \n",
       "7           8  Pierced Owl Rose Gold Plated Stainless Steel D...   10.99   \n",
       "8           9  WD 2TB Elements Portable External Hard Drive -...   64.00   \n",
       "9          10  SanDisk SSD PLUS 1TB Internal SSD - SATA III 6...  109.00   \n",
       "\n",
       "                                         description        category  rate  \\\n",
       "0  Your perfect pack for everyday use and walks i...  men's clothing   3.9   \n",
       "1  Slim-fitting style, contrast raglan long sleev...  men's clothing   4.1   \n",
       "2  great outerwear jackets for Spring/Autumn/Wint...  men's clothing   4.7   \n",
       "3  The color could be slightly different between ...  men's clothing   2.1   \n",
       "4  From our Legends Collection, the Naga was insp...        jewelery   4.6   \n",
       "5  Satisfaction Guaranteed. Return or exchange an...        jewelery   3.9   \n",
       "6  Classic Created Wedding Engagement Solitaire D...        jewelery   3.0   \n",
       "7  Rose Gold Plated Double Flared Tunnel Plug Ear...        jewelery   1.9   \n",
       "8  USB 3.0 and USB 2.0 Compatibility Fast data tr...     electronics   3.3   \n",
       "9  Easy upgrade for faster boot up, shutdown, app...     electronics   2.9   \n",
       "\n",
       "   count  \n",
       "0    120  \n",
       "1    259  \n",
       "2    500  \n",
       "3    430  \n",
       "4    400  \n",
       "5     70  \n",
       "6    400  \n",
       "7    100  \n",
       "8    203  \n",
       "9    470  "
      ]
     },
     "execution_count": 13,
     "metadata": {},
     "output_type": "execute_result"
    }
   ],
   "source": [
    "df = create_df(store_data)\n",
    "df.head(10)"
   ]
  },
  {
   "cell_type": "markdown",
   "metadata": {},
   "source": [
    "### Save Dataframe to CSV"
   ]
  },
  {
   "cell_type": "code",
   "execution_count": 14,
   "metadata": {},
   "outputs": [],
   "source": [
    "df.to_csv('FakeApiStoreProducts.csv', index=False)"
   ]
  }
 ],
 "metadata": {
  "kernelspec": {
   "display_name": "venv",
   "language": "python",
   "name": "python3"
  },
  "language_info": {
   "codemirror_mode": {
    "name": "ipython",
    "version": 3
   },
   "file_extension": ".py",
   "mimetype": "text/x-python",
   "name": "python",
   "nbconvert_exporter": "python",
   "pygments_lexer": "ipython3",
   "version": "3.11.0"
  }
 },
 "nbformat": 4,
 "nbformat_minor": 2
}
